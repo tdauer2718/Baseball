{
 "cells": [
  {
   "cell_type": "markdown",
   "id": "9da68338-f701-4d2b-b18f-3384d7076274",
   "metadata": {},
   "source": [
    "This data is from the 2020 CSV version of Lahman’s Baseball Database, to be downloaded [here](https://github.com/chadwickbureau/baseballdatabank/archive/master.zip)."
   ]
  },
  {
   "cell_type": "code",
   "execution_count": null,
   "id": "91866311-ed0e-4cee-9ff2-93c8cbfccc91",
   "metadata": {},
   "outputs": [],
   "source": []
  }
 ],
 "metadata": {
  "kernelspec": {
   "display_name": "Python 3 (ipykernel)",
   "language": "python",
   "name": "python3"
  },
  "language_info": {
   "codemirror_mode": {
    "name": "ipython",
    "version": 3
   },
   "file_extension": ".py",
   "mimetype": "text/x-python",
   "name": "python",
   "nbconvert_exporter": "python",
   "pygments_lexer": "ipython3",
   "version": "3.8.10"
  }
 },
 "nbformat": 4,
 "nbformat_minor": 5
}
